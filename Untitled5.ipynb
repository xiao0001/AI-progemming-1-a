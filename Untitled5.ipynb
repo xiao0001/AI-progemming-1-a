{
  "nbformat": 4,
  "nbformat_minor": 0,
  "metadata": {
    "colab": {
      "name": "Untitled5.ipynb",
      "provenance": [],
      "toc_visible": true,
      "authorship_tag": "ABX9TyPc39cV5q9/whFAQH/AHni6",
      "include_colab_link": true
    },
    "kernelspec": {
      "name": "python3",
      "display_name": "Python 3"
    }
  },
  "cells": [
    {
      "cell_type": "markdown",
      "metadata": {
        "id": "view-in-github",
        "colab_type": "text"
      },
      "source": [
        "<a href=\"https://colab.research.google.com/github/xiao0001/AI-progemming-1-a/blob/master/Untitled5.ipynb\" target=\"_parent\"><img src=\"https://colab.research.google.com/assets/colab-badge.svg\" alt=\"Open In Colab\"/></a>"
      ]
    },
    {
      "cell_type": "code",
      "metadata": {
        "id": "sl7ajKZI-j72",
        "colab_type": "code",
        "colab": {
          "base_uri": "https://localhost:8080/",
          "height": 34
        },
        "outputId": "c31a453c-7365-4ff5-da2a-ceb5a38479ad"
      },
      "source": [
        "x=2\n",
        "print(x)"
      ],
      "execution_count": 12,
      "outputs": [
        {
          "output_type": "stream",
          "text": [
            "2\n"
          ],
          "name": "stdout"
        }
      ]
    },
    {
      "cell_type": "code",
      "metadata": {
        "id": "1W0IDNHP-zrQ",
        "colab_type": "code",
        "colab": {
          "base_uri": "https://localhost:8080/",
          "height": 67
        },
        "outputId": "306ffd90-0a69-47ae-e747-6dd13311ebbd"
      },
      "source": [
        "x=2\n",
        "print(x)\n",
        "x=\"hello\"\n",
        "print(x)\n",
        "x=[1,2,3]\n",
        "print(x)"
      ],
      "execution_count": 14,
      "outputs": [
        {
          "output_type": "stream",
          "text": [
            "2\n",
            "hello\n",
            "[1, 2, 3]\n"
          ],
          "name": "stdout"
        }
      ]
    },
    {
      "cell_type": "code",
      "metadata": {
        "id": "ZZHxytlj_KRn",
        "colab_type": "code",
        "colab": {
          "base_uri": "https://localhost:8080/",
          "height": 34
        },
        "outputId": "3725af98-1229-4499-89e3-9c7851ac6c0a"
      },
      "source": [
        "y=x\n",
        "print(y)"
      ],
      "execution_count": 15,
      "outputs": [
        {
          "output_type": "stream",
          "text": [
            "[1, 2, 3]\n"
          ],
          "name": "stdout"
        }
      ]
    },
    {
      "cell_type": "code",
      "metadata": {
        "id": "l4zdoK_-_Tpo",
        "colab_type": "code",
        "colab": {
          "base_uri": "https://localhost:8080/",
          "height": 34
        },
        "outputId": "4b9e35b2-d4df-4922-f9aa-6d58c96c8849"
      },
      "source": [
        "x.append(\"he\")\n",
        "print(x)"
      ],
      "execution_count": 18,
      "outputs": [
        {
          "output_type": "stream",
          "text": [
            "[1, 2, 3, 'he', 'he']\n"
          ],
          "name": "stdout"
        }
      ]
    },
    {
      "cell_type": "code",
      "metadata": {
        "id": "E8wHu62jED14",
        "colab_type": "code",
        "colab": {
          "base_uri": "https://localhost:8080/",
          "height": 34
        },
        "outputId": "998cd40e-5396-4e57-ab06-4048aa4bad78"
      },
      "source": [
        "13 % 2 == 1\n"
      ],
      "execution_count": 21,
      "outputs": [
        {
          "output_type": "execute_result",
          "data": {
            "text/plain": [
              "True"
            ]
          },
          "metadata": {
            "tags": []
          },
          "execution_count": 21
        }
      ]
    },
    {
      "cell_type": "code",
      "metadata": {
        "id": "htZ_bXIVES62",
        "colab_type": "code",
        "colab": {
          "base_uri": "https://localhost:8080/",
          "height": 34
        },
        "outputId": "a6fe3c2f-f5e2-4c5e-f8df-6cd352e39de9"
      },
      "source": [
        "num = 72\n",
        "if (num % 2) == 0:\n",
        "   print(\"{0} が偶数\".format(num))\n",
        "else:\n",
        "   print(\"{0} が奇数\".format(num))\n",
        "\n"
      ],
      "execution_count": 37,
      "outputs": [
        {
          "output_type": "stream",
          "text": [
            "72 が偶数\n"
          ],
          "name": "stdout"
        }
      ]
    },
    {
      "cell_type": "code",
      "metadata": {
        "id": "sD7QDdlhIK-u",
        "colab_type": "code",
        "colab": {
          "base_uri": "https://localhost:8080/",
          "height": 34
        },
        "outputId": "1228c05e-c2f5-490c-fcbb-968c1939ae13"
      },
      "source": [
        "x = 6\n",
        "(x >= 1) and (x <= 7)"
      ],
      "execution_count": 38,
      "outputs": [
        {
          "output_type": "execute_result",
          "data": {
            "text/plain": [
              "True"
            ]
          },
          "metadata": {
            "tags": []
          },
          "execution_count": 38
        }
      ]
    },
    {
      "cell_type": "code",
      "metadata": {
        "id": "5QZlrnjVINqM",
        "colab_type": "code",
        "colab": {
          "base_uri": "https://localhost:8080/",
          "height": 50
        },
        "outputId": "8f3326db-88ae-4737-a94c-ae2381c24a2c"
      },
      "source": [
        "num = int(input(\"数字を入力してください: \"))\n",
        "if (num % 2) == 0:\n",
        "   print(\"{0} が偶数\".format(num))\n",
        "else:\n",
        "   print(\"{0} が奇数\".format(num))"
      ],
      "execution_count": 43,
      "outputs": [
        {
          "output_type": "stream",
          "text": [
            "数字を入力してください: 20\n",
            "20 が偶数\n"
          ],
          "name": "stdout"
        }
      ]
    },
    {
      "cell_type": "code",
      "metadata": {
        "id": "0Ai_MPJhMrAP",
        "colab_type": "code",
        "colab": {
          "base_uri": "https://localhost:8080/",
          "height": 34
        },
        "outputId": "24e42fb9-7011-441c-9946-905d4e11007f"
      },
      "source": [
        "var1 = 'Hello World!' \n",
        "print (var1[0:6] + 'Runoob!')"
      ],
      "execution_count": 49,
      "outputs": [
        {
          "output_type": "stream",
          "text": [
            "Hello Runoob!\n"
          ],
          "name": "stdout"
        }
      ]
    },
    {
      "cell_type": "code",
      "metadata": {
        "id": "Nea_WzEdNZHc",
        "colab_type": "code",
        "colab": {
          "base_uri": "https://localhost:8080/",
          "height": 34
        },
        "outputId": "8b1da345-a79f-431d-f4e6-448812ec5719"
      },
      "source": [
        "a = \"Hello\"\n",
        "b = \"Python\"\n",
        " \n",
        "print(\"a + b 输出结果：\", a + \" \"+ b)"
      ],
      "execution_count": 55,
      "outputs": [
        {
          "output_type": "stream",
          "text": [
            "a + b 输出结果： Hello Python\n"
          ],
          "name": "stdout"
        }
      ]
    },
    {
      "cell_type": "code",
      "metadata": {
        "id": "R-aA-CFVOUlr",
        "colab_type": "code",
        "colab": {}
      },
      "source": [
        "text=\"Hello Python\""
      ],
      "execution_count": 0,
      "outputs": []
    },
    {
      "cell_type": "code",
      "metadata": {
        "id": "RTVzf0FWOsIL",
        "colab_type": "code",
        "colab": {
          "base_uri": "https://localhost:8080/",
          "height": 34
        },
        "outputId": "f482f211-43ef-4c25-c9ae-ea4ec554b351"
      },
      "source": [
        "len(text)"
      ],
      "execution_count": 57,
      "outputs": [
        {
          "output_type": "execute_result",
          "data": {
            "text/plain": [
              "12"
            ]
          },
          "metadata": {
            "tags": []
          },
          "execution_count": 57
        }
      ]
    },
    {
      "cell_type": "markdown",
      "metadata": {
        "id": "aXY2vWMyQa6h",
        "colab_type": "text"
      },
      "source": [
        "\n",
        "\n",
        "```\n",
        "# 将所有文本字符转换为大写。\n",
        "```\n",
        "\n"
      ]
    },
    {
      "cell_type": "code",
      "metadata": {
        "id": "mOinNzfUPaU8",
        "colab_type": "code",
        "colab": {
          "base_uri": "https://localhost:8080/",
          "height": 34
        },
        "outputId": "f844ffe6-a4ac-457f-d4aa-dbf147a852c5"
      },
      "source": [
        "text.upper()"
      ],
      "execution_count": 60,
      "outputs": [
        {
          "output_type": "execute_result",
          "data": {
            "text/plain": [
              "'HELLO PYTHON'"
            ]
          },
          "metadata": {
            "tags": []
          },
          "execution_count": 60
        }
      ]
    },
    {
      "cell_type": "markdown",
      "metadata": {
        "id": "fHj-7tSTQHZi",
        "colab_type": "text"
      },
      "source": [
        "```\n",
        "文字的首字母大写。\n",
        "```"
      ]
    },
    {
      "cell_type": "code",
      "metadata": {
        "id": "8it-MnSMPqiK",
        "colab_type": "code",
        "colab": {
          "base_uri": "https://localhost:8080/",
          "height": 34
        },
        "outputId": "bd9b623f-c3a5-4e6d-b6ba-1c54fe84c119"
      },
      "source": [
        "text.capitalize()"
      ],
      "execution_count": 62,
      "outputs": [
        {
          "output_type": "execute_result",
          "data": {
            "text/plain": [
              "'Hello python'"
            ]
          },
          "metadata": {
            "tags": []
          },
          "execution_count": 62
        }
      ]
    },
    {
      "cell_type": "markdown",
      "metadata": {
        "id": "0T5ZqZz3Pygr",
        "colab_type": "text"
      },
      "source": [
        "別の文章を作って、text02の変数に割り当ててください。そして、textをtext02に加えてください。"
      ]
    },
    {
      "cell_type": "code",
      "metadata": {
        "id": "g5GswPEjP2Yy",
        "colab_type": "code",
        "colab": {
          "base_uri": "https://localhost:8080/",
          "height": 34
        },
        "outputId": "95fd4a67-067f-4c5e-a1c4-06ff4a71142d"
      },
      "source": [
        "text02 = \"so much\"\n",
        "text + text02"
      ],
      "execution_count": 63,
      "outputs": [
        {
          "output_type": "execute_result",
          "data": {
            "text/plain": [
              "'Hello Pythonso much'"
            ]
          },
          "metadata": {
            "tags": []
          },
          "execution_count": 63
        }
      ]
    },
    {
      "cell_type": "code",
      "metadata": {
        "id": "8RcaxefKQ6cE",
        "colab_type": "code",
        "colab": {
          "base_uri": "https://localhost:8080/",
          "height": 34
        },
        "outputId": "0db1d3b8-294a-4cd9-aa33-0576953fddb0"
      },
      "source": [
        "text+ \" \" +text02"
      ],
      "execution_count": 64,
      "outputs": [
        {
          "output_type": "execute_result",
          "data": {
            "text/plain": [
              "'Hello Python so much'"
            ]
          },
          "metadata": {
            "tags": []
          },
          "execution_count": 64
        }
      ]
    },
    {
      "cell_type": "code",
      "metadata": {
        "id": "qUQyiOBTRDu6",
        "colab_type": "code",
        "colab": {
          "base_uri": "https://localhost:8080/",
          "height": 34
        },
        "outputId": "b5fb4b93-1d8a-4ec4-aba0-a3ce62d53416"
      },
      "source": [
        "text * 5"
      ],
      "execution_count": 74,
      "outputs": [
        {
          "output_type": "execute_result",
          "data": {
            "text/plain": [
              "'Hello PythonHello PythonHello PythonHello PythonHello Python'"
            ]
          },
          "metadata": {
            "tags": []
          },
          "execution_count": 74
        }
      ]
    },
    {
      "cell_type": "markdown",
      "metadata": {
        "id": "-YBkm8AMS4xL",
        "colab_type": "text"
      },
      "source": [
        "搜索"
      ]
    },
    {
      "cell_type": "code",
      "metadata": {
        "id": "-Rt6eh77S-vC",
        "colab_type": "code",
        "colab": {
          "base_uri": "https://localhost:8080/",
          "height": 34
        },
        "outputId": "f3b4d94d-2737-4de4-a2dc-de6117978f74"
      },
      "source": [
        "text[0]"
      ],
      "execution_count": 75,
      "outputs": [
        {
          "output_type": "execute_result",
          "data": {
            "text/plain": [
              "'H'"
            ]
          },
          "metadata": {
            "tags": []
          },
          "execution_count": 75
        }
      ]
    },
    {
      "cell_type": "code",
      "metadata": {
        "id": "ueJWEubwTCrq",
        "colab_type": "code",
        "colab": {
          "base_uri": "https://localhost:8080/",
          "height": 34
        },
        "outputId": "410367b4-ea93-4e4c-bcc6-53522cd3ab23"
      },
      "source": [
        "text[11]"
      ],
      "execution_count": 77,
      "outputs": [
        {
          "output_type": "execute_result",
          "data": {
            "text/plain": [
              "'n'"
            ]
          },
          "metadata": {
            "tags": []
          },
          "execution_count": 77
        }
      ]
    },
    {
      "cell_type": "code",
      "metadata": {
        "id": "Z4NJf8tbTi_B",
        "colab_type": "code",
        "colab": {
          "base_uri": "https://localhost:8080/",
          "height": 34
        },
        "outputId": "9a5ed742-315d-4aee-f44a-b87da677a67b"
      },
      "source": [
        "type(None)"
      ],
      "execution_count": 78,
      "outputs": [
        {
          "output_type": "execute_result",
          "data": {
            "text/plain": [
              "NoneType"
            ]
          },
          "metadata": {
            "tags": []
          },
          "execution_count": 78
        }
      ]
    },
    {
      "cell_type": "markdown",
      "metadata": {
        "id": "Yquir2_MUGgZ",
        "colab_type": "text"
      },
      "source": [
        "## **列表**"
      ]
    },
    {
      "cell_type": "markdown",
      "metadata": {
        "id": "ICiuL5oAUWTo",
        "colab_type": "text"
      },
      "source": [
        "创建一个列表并将其分配给L变量。 在列表中放入1,2,8,9。"
      ]
    },
    {
      "cell_type": "code",
      "metadata": {
        "id": "6rMXn-gPUbSy",
        "colab_type": "code",
        "colab": {}
      },
      "source": [
        "L=[1,2,8,9]"
      ],
      "execution_count": 0,
      "outputs": []
    },
    {
      "cell_type": "code",
      "metadata": {
        "id": "jZkS9-A1UllC",
        "colab_type": "code",
        "colab": {
          "base_uri": "https://localhost:8080/",
          "height": 34
        },
        "outputId": "5ef94aa4-263a-4e97-f4db-9842264db657"
      },
      "source": [
        "len(L)"
      ],
      "execution_count": 105,
      "outputs": [
        {
          "output_type": "execute_result",
          "data": {
            "text/plain": [
              "11"
            ]
          },
          "metadata": {
            "tags": []
          },
          "execution_count": 105
        }
      ]
    },
    {
      "cell_type": "markdown",
      "metadata": {
        "id": "5UawDjlCUv1y",
        "colab_type": "text"
      },
      "source": [
        "将11添加到列表中。"
      ]
    },
    {
      "cell_type": "code",
      "metadata": {
        "id": "YvSgtxswUrSM",
        "colab_type": "code",
        "colab": {}
      },
      "source": [
        "L.append(11)"
      ],
      "execution_count": 0,
      "outputs": []
    },
    {
      "cell_type": "markdown",
      "metadata": {
        "id": "pnBxosslVOsK",
        "colab_type": "text"
      },
      "source": [
        "列表还支持拼接操作"
      ]
    },
    {
      "cell_type": "code",
      "metadata": {
        "id": "DBdlvyVMVM8y",
        "colab_type": "code",
        "colab": {}
      },
      "source": [
        "L += [36, 49, 64, 81, 100]"
      ],
      "execution_count": 0,
      "outputs": []
    },
    {
      "cell_type": "code",
      "metadata": {
        "id": "ZuPHdaEqVe80",
        "colab_type": "code",
        "colab": {
          "base_uri": "https://localhost:8080/",
          "height": 34
        },
        "outputId": "7c10971f-3c66-4751-f50c-d76ffbd95b6d"
      },
      "source": [
        "print(L)"
      ],
      "execution_count": 110,
      "outputs": [
        {
          "output_type": "stream",
          "text": [
            "[1, 2, 8, 9, 11, 36, 49, 64, 81, 100]\n"
          ],
          "name": "stdout"
        }
      ]
    },
    {
      "cell_type": "markdown",
      "metadata": {
        "id": "Igf4SeRSVx8R",
        "colab_type": "text"
      },
      "source": [
        "按升序对列表进行排序。"
      ]
    },
    {
      "cell_type": "code",
      "metadata": {
        "id": "fNJVxWgiVzZJ",
        "colab_type": "code",
        "colab": {
          "base_uri": "https://localhost:8080/",
          "height": 34
        },
        "outputId": "08773695-123c-42c2-97ae-87218986e3d2"
      },
      "source": [
        "L.sort\n",
        "L"
      ],
      "execution_count": 109,
      "outputs": [
        {
          "output_type": "execute_result",
          "data": {
            "text/plain": [
              "[1, 2, 8, 9, 11, 36, 49, 64, 81, 100]"
            ]
          },
          "metadata": {
            "tags": []
          },
          "execution_count": 109
        }
      ]
    },
    {
      "cell_type": "markdown",
      "metadata": {
        "id": "AoqD8nZdWYGB",
        "colab_type": "text"
      },
      "source": [
        "# 列表索引和切片"
      ]
    },
    {
      "cell_type": "markdown",
      "metadata": {
        "id": "Fc9QVs3dW7pC",
        "colab_type": "text"
      },
      "source": [
        "查找L的第四个值"
      ]
    },
    {
      "cell_type": "code",
      "metadata": {
        "id": "9Kz7WHVIWY5Z",
        "colab_type": "code",
        "colab": {
          "base_uri": "https://localhost:8080/",
          "height": 34
        },
        "outputId": "0be738f5-7a41-4779-9466-4d3097b71ae8"
      },
      "source": [
        "L[3]"
      ],
      "execution_count": 111,
      "outputs": [
        {
          "output_type": "execute_result",
          "data": {
            "text/plain": [
              "9"
            ]
          },
          "metadata": {
            "tags": []
          },
          "execution_count": 111
        }
      ]
    },
    {
      "cell_type": "markdown",
      "metadata": {
        "id": "kJHyG9mJXJuA",
        "colab_type": "text"
      },
      "source": [
        "显示L的最后一个值"
      ]
    },
    {
      "cell_type": "code",
      "metadata": {
        "id": "ocZ5iMInXKaP",
        "colab_type": "code",
        "colab": {
          "base_uri": "https://localhost:8080/",
          "height": 34
        },
        "outputId": "9565d9a0-c768-443f-e0b6-ba04dab7b272"
      },
      "source": [
        "L[-1]"
      ],
      "execution_count": 112,
      "outputs": [
        {
          "output_type": "execute_result",
          "data": {
            "text/plain": [
              "100"
            ]
          },
          "metadata": {
            "tags": []
          },
          "execution_count": 112
        }
      ]
    },
    {
      "cell_type": "markdown",
      "metadata": {
        "id": "sl7TLxrKXWpL",
        "colab_type": "text"
      },
      "source": [
        "查找L的最后两个值。"
      ]
    },
    {
      "cell_type": "code",
      "metadata": {
        "id": "1ZU-nREfXVoo",
        "colab_type": "code",
        "colab": {
          "base_uri": "https://localhost:8080/",
          "height": 34
        },
        "outputId": "cb5fcc1a-df35-4a90-f550-916d21eb058e"
      },
      "source": [
        "L[-2:]"
      ],
      "execution_count": 113,
      "outputs": [
        {
          "output_type": "execute_result",
          "data": {
            "text/plain": [
              "[81, 100]"
            ]
          },
          "metadata": {
            "tags": []
          },
          "execution_count": 113
        }
      ]
    },
    {
      "cell_type": "markdown",
      "metadata": {
        "id": "rrjHdfAXXeHc",
        "colab_type": "text"
      },
      "source": [
        "按升序对L排序，并显示L跳过一个值。"
      ]
    },
    {
      "cell_type": "code",
      "metadata": {
        "id": "yMOy2ZqRXf36",
        "colab_type": "code",
        "colab": {
          "base_uri": "https://localhost:8080/",
          "height": 34
        },
        "outputId": "46bc4fbf-e973-4288-d84f-51fb1f96afdc"
      },
      "source": [
        "L[::2]"
      ],
      "execution_count": 114,
      "outputs": [
        {
          "output_type": "execute_result",
          "data": {
            "text/plain": [
              "[1, 8, 11, 49, 81]"
            ]
          },
          "metadata": {
            "tags": []
          },
          "execution_count": 114
        }
      ]
    },
    {
      "cell_type": "markdown",
      "metadata": {
        "id": "BLrHznJMX70Z",
        "colab_type": "text"
      },
      "source": [
        "## 元组"
      ]
    },
    {
      "cell_type": "code",
      "metadata": {
        "id": "d_Z1OZd6X9yq",
        "colab_type": "code",
        "colab": {
          "base_uri": "https://localhost:8080/",
          "height": 34
        },
        "outputId": "13518321-e6d3-4cf1-b2f8-2904621ae394"
      },
      "source": [
        "tup1 = (50)\n",
        "type(tup1) "
      ],
      "execution_count": 119,
      "outputs": [
        {
          "output_type": "execute_result",
          "data": {
            "text/plain": [
              "int"
            ]
          },
          "metadata": {
            "tags": []
          },
          "execution_count": 119
        }
      ]
    },
    {
      "cell_type": "markdown",
      "metadata": {
        "id": "khv28k0AaMkb",
        "colab_type": "text"
      },
      "source": [
        "## 集合"
      ]
    },
    {
      "cell_type": "markdown",
      "metadata": {
        "id": "MQb4-J_eaaSQ",
        "colab_type": "text"
      },
      "source": [
        "为List_A创建一个变量，并将[1,1,2,5,5,5,8,8,9]放入List_A。 为List_B创建一个变量，然后将[1,2,2,3,3,3,6,10]放入List_B。"
      ]
    },
    {
      "cell_type": "code",
      "metadata": {
        "id": "RG9mc2mfaPMK",
        "colab_type": "code",
        "colab": {
          "base_uri": "https://localhost:8080/",
          "height": 50
        },
        "outputId": "8a2151e8-1180-4c25-df01-27e3625555b6"
      },
      "source": [
        "List_A = [1,1,2,5,5,5,8,8,9]\n",
        "print(List_A)\n",
        "List_B = [1,2,2,3,3,3,6,10]\n",
        "print(List_B)"
      ],
      "execution_count": 120,
      "outputs": [
        {
          "output_type": "stream",
          "text": [
            "[1, 1, 2, 5, 5, 5, 8, 8, 9]\n",
            "[1, 2, 2, 3, 3, 3, 6, 10]\n"
          ],
          "name": "stdout"
        }
      ]
    },
    {
      "cell_type": "code",
      "metadata": {
        "id": "sfNxYzBkay-X",
        "colab_type": "code",
        "colab": {
          "base_uri": "https://localhost:8080/",
          "height": 34
        },
        "outputId": "3f481040-d100-43bb-f348-fdafaa810cc4"
      },
      "source": [
        "print(List_A)"
      ],
      "execution_count": 121,
      "outputs": [
        {
          "output_type": "stream",
          "text": [
            "[1, 1, 2, 5, 5, 5, 8, 8, 9]\n"
          ],
          "name": "stdout"
        }
      ]
    },
    {
      "cell_type": "code",
      "metadata": {
        "id": "mw49eCDsa4-h",
        "colab_type": "code",
        "colab": {
          "base_uri": "https://localhost:8080/",
          "height": 34
        },
        "outputId": "e19280c4-9c9d-4062-93bd-ffbebc22bd71"
      },
      "source": [
        "set(List_A)"
      ],
      "execution_count": 122,
      "outputs": [
        {
          "output_type": "execute_result",
          "data": {
            "text/plain": [
              "{1, 2, 5, 8, 9}"
            ]
          },
          "metadata": {
            "tags": []
          },
          "execution_count": 122
        }
      ]
    },
    {
      "cell_type": "code",
      "metadata": {
        "id": "yntkrOjsbmcq",
        "colab_type": "code",
        "colab": {
          "base_uri": "https://localhost:8080/",
          "height": 67
        },
        "outputId": "c5ecd402-5b96-4f1f-c161-a576984d84ca"
      },
      "source": [
        "print(\"请输入任何数字\")\n",
        "x = input()\n",
        "x = int(x)\n",
        "\n",
        "if x == 0:\n",
        "    print(x, \"is zero\")\n",
        "elif x > 0:\n",
        "    print(x, \"is positive\")\n",
        "elif x < 0:\n",
        "    print(x, \"is negative\")\n",
        "else:\n",
        "    print(x, \"is None\")"
      ],
      "execution_count": 124,
      "outputs": [
        {
          "output_type": "stream",
          "text": [
            "请输入任何数字\n",
            "20\n",
            "20 is positive\n"
          ],
          "name": "stdout"
        }
      ]
    },
    {
      "cell_type": "code",
      "metadata": {
        "id": "7jXXfxEJjiz4",
        "colab_type": "code",
        "colab": {
          "base_uri": "https://localhost:8080/",
          "height": 131
        },
        "outputId": "c1219385-cbd1-4994-b063-46e8e0b2da9d"
      },
      "source": [
        "for i in range(1, 21):\n",
        "    if i % 2 == 0:)\n",
        "print(ji)\n"
      ],
      "execution_count": 130,
      "outputs": [
        {
          "output_type": "error",
          "ename": "SyntaxError",
          "evalue": "ignored",
          "traceback": [
            "\u001b[0;36m  File \u001b[0;32m\"<ipython-input-130-b4aef631fa5e>\"\u001b[0;36m, line \u001b[0;32m2\u001b[0m\n\u001b[0;31m    if i % 2 == 0:)\u001b[0m\n\u001b[0m                  ^\u001b[0m\n\u001b[0;31mSyntaxError\u001b[0m\u001b[0;31m:\u001b[0m invalid syntax\n"
          ]
        }
      ]
    },
    {
      "cell_type": "code",
      "metadata": {
        "id": "ZmZMaAZpkAxP",
        "colab_type": "code",
        "colab": {
          "base_uri": "https://localhost:8080/",
          "height": 34
        },
        "outputId": "0149e058-f313-499e-a935-50c1ae8041f9"
      },
      "source": [
        "numbers = [1,2,3,4,5,6]\n",
        "even = [i for i in numbers if i%2 == 0]\n",
        "print(even)"
      ],
      "execution_count": 156,
      "outputs": [
        {
          "output_type": "stream",
          "text": [
            "[2, 4, 6]\n"
          ],
          "name": "stdout"
        }
      ]
    },
    {
      "cell_type": "code",
      "metadata": {
        "id": "6MOdxssskgw-",
        "colab_type": "code",
        "colab": {
          "base_uri": "https://localhost:8080/",
          "height": 34
        },
        "outputId": "ef69a4f5-0901-4aef-d3ca-3dec15bec1c6"
      },
      "source": [
        "test = [each for each in range(1,21) if not (each % 2 == 0)]\n",
        "test"
      ],
      "execution_count": 162,
      "outputs": [
        {
          "output_type": "execute_result",
          "data": {
            "text/plain": [
              "[1, 3, 5, 7, 9, 11, 13, 15, 17, 19]"
            ]
          },
          "metadata": {
            "tags": []
          },
          "execution_count": 162
        }
      ]
    },
    {
      "cell_type": "code",
      "metadata": {
        "id": "Uw9yhTgemUCm",
        "colab_type": "code",
        "colab": {
          "base_uri": "https://localhost:8080/",
          "height": 101
        },
        "outputId": "accaa5bd-824e-4e2f-c10b-811fe5182152"
      },
      "source": [
        "for N in [1, 2, 3, 4, 5]:\n",
        "    print(N)"
      ],
      "execution_count": 163,
      "outputs": [
        {
          "output_type": "stream",
          "text": [
            "1\n",
            "2\n",
            "3\n",
            "4\n",
            "5\n"
          ],
          "name": "stdout"
        }
      ]
    },
    {
      "cell_type": "code",
      "metadata": {
        "id": "w_cZP1G9mVxu",
        "colab_type": "code",
        "colab": {}
      },
      "source": [
        ""
      ],
      "execution_count": 0,
      "outputs": []
    },
    {
      "cell_type": "code",
      "metadata": {
        "id": "69Kd-WTyk-dO",
        "colab_type": "code",
        "colab": {
          "base_uri": "https://localhost:8080/",
          "height": 84
        },
        "outputId": "6817e844-5724-4fca-9557-5f6eff6e181a"
      },
      "source": [
        "for i in range(1,5):\n",
        " print(i)"
      ],
      "execution_count": 155,
      "outputs": [
        {
          "output_type": "stream",
          "text": [
            "1\n",
            "2\n",
            "3\n",
            "4\n"
          ],
          "name": "stdout"
        }
      ]
    },
    {
      "cell_type": "markdown",
      "metadata": {
        "id": "rci2LGZUmfF1",
        "colab_type": "text"
      },
      "source": [
        "使其显示在一行上。"
      ]
    },
    {
      "cell_type": "code",
      "metadata": {
        "id": "cN2kVo9EmjOd",
        "colab_type": "code",
        "colab": {
          "base_uri": "https://localhost:8080/",
          "height": 34
        },
        "outputId": "164128da-ad06-4947-a19d-96e94245c9fa"
      },
      "source": [
        "for N in [1,2,3,4,5]:\n",
        "    print(N,end=' ')"
      ],
      "execution_count": 168,
      "outputs": [
        {
          "output_type": "stream",
          "text": [
            "1 2 3 4 5 "
          ],
          "name": "stdout"
        }
      ]
    },
    {
      "cell_type": "markdown",
      "metadata": {
        "id": "Hz4h-vJ9nGtm",
        "colab_type": "text"
      },
      "source": [
        "也可以使range以指定数字开始并指定不同的增量(甚至可以是负数，有时这也叫做'步长'):3の倍数のNループを作りなさい"
      ]
    },
    {
      "cell_type": "code",
      "metadata": {
        "id": "Z-x0xU5enLyF",
        "colab_type": "code",
        "colab": {
          "base_uri": "https://localhost:8080/",
          "height": 34
        },
        "outputId": "5c68c739-019b-42c1-c63e-acb4d348b091"
      },
      "source": [
        "for N in range(3,31,3):\n",
        "    print(N,end=' ')"
      ],
      "execution_count": 170,
      "outputs": [
        {
          "output_type": "stream",
          "text": [
            "3 6 9 12 15 18 21 24 27 30 "
          ],
          "name": "stdout"
        }
      ]
    },
    {
      "cell_type": "code",
      "metadata": {
        "id": "z12361DrnaUV",
        "colab_type": "code",
        "colab": {
          "base_uri": "https://localhost:8080/",
          "height": 34
        },
        "outputId": "65e636eb-011e-4584-8065-c1770a7b7ba6"
      },
      "source": [
        "for i in range(-10, -100, -30) :\n",
        "    print(i,end=' ')"
      ],
      "execution_count": 172,
      "outputs": [
        {
          "output_type": "stream",
          "text": [
            "-10 -40 -70 "
          ],
          "name": "stdout"
        }
      ]
    },
    {
      "cell_type": "markdown",
      "metadata": {
        "id": "IIyFKh7Xnza9",
        "colab_type": "text"
      },
      "source": [
        "计算1到5的总和。"
      ]
    },
    {
      "cell_type": "code",
      "metadata": {
        "id": "WnAO5drZn2Ue",
        "colab_type": "code",
        "colab": {
          "base_uri": "https://localhost:8080/",
          "height": 34
        },
        "outputId": "c28bb185-d1fd-411c-bec9-5d993d1db23b"
      },
      "source": [
        "#totalを初期化する\n",
        "total = 0 \n",
        "for N in range(1,6):\n",
        "    total +=N   #totalを毎回Nと加算させる\n",
        "print(total)"
      ],
      "execution_count": 176,
      "outputs": [
        {
          "output_type": "stream",
          "text": [
            "15\n"
          ],
          "name": "stdout"
        }
      ]
    },
    {
      "cell_type": "markdown",
      "metadata": {
        "id": "u0mkheu3pOlk",
        "colab_type": "text"
      },
      "source": [
        "1-10之间的偶数相加"
      ]
    },
    {
      "cell_type": "code",
      "metadata": {
        "id": "M49-DuCGoXcu",
        "colab_type": "code",
        "colab": {
          "base_uri": "https://localhost:8080/",
          "height": 34
        },
        "outputId": "0c98296d-ac26-483e-e5d1-12dd57a8e1eb"
      },
      "source": [
        "sum([i for i in range(1,11) if i%2==0])"
      ],
      "execution_count": 198,
      "outputs": [
        {
          "output_type": "execute_result",
          "data": {
            "text/plain": [
              "30"
            ]
          },
          "metadata": {
            "tags": []
          },
          "execution_count": 198
        }
      ]
    },
    {
      "cell_type": "code",
      "metadata": {
        "id": "SPgZO0eqp4f_",
        "colab_type": "code",
        "colab": {
          "base_uri": "https://localhost:8080/",
          "height": 34
        },
        "outputId": "a8ab2181-bbf1-4183-9f36-6da757763204"
      },
      "source": [
        "sum([i for i in range(1,11) if i%2==1])"
      ],
      "execution_count": 197,
      "outputs": [
        {
          "output_type": "execute_result",
          "data": {
            "text/plain": [
              "25"
            ]
          },
          "metadata": {
            "tags": []
          },
          "execution_count": 197
        }
      ]
    },
    {
      "cell_type": "code",
      "metadata": {
        "id": "ZOutHbZIp-3e",
        "colab_type": "code",
        "colab": {
          "base_uri": "https://localhost:8080/",
          "height": 34
        },
        "outputId": "47b0f8e4-1c9a-4e24-c5e0-6919452f565f"
      },
      "source": [
        "places = [\"kamigyo ku\",\"nakagyo ku\", \"sakyo ku\"]\n",
        "new_places = []\n",
        "\n",
        "for place in places:\n",
        "    new_places.append(place.capitalize().replace(\" \",\"-\"))\n",
        "print(new_places)"
      ],
      "execution_count": 187,
      "outputs": [
        {
          "output_type": "stream",
          "text": [
            "['Kamigyo-ku', 'Nakagyo-ku', 'Sakyo-ku']\n"
          ],
          "name": "stdout"
        }
      ]
    },
    {
      "cell_type": "code",
      "metadata": {
        "id": "CmawKS_rsKF3",
        "colab_type": "code",
        "colab": {
          "base_uri": "https://localhost:8080/",
          "height": 34
        },
        "outputId": "e3856b5f-e45b-47b7-998c-2b92e5f580b5"
      },
      "source": [
        "i = 1 #初期化\n",
        "while i < 11: #最後の値\n",
        "    print(i,end=' ')\n",
        "    i += 1 #ステップ"
      ],
      "execution_count": 189,
      "outputs": [
        {
          "output_type": "stream",
          "text": [
            "1 2 3 4 5 6 7 8 9 10 "
          ],
          "name": "stdout"
        }
      ]
    },
    {
      "cell_type": "code",
      "metadata": {
        "id": "Cy-eGQjUsk5U",
        "colab_type": "code",
        "colab": {
          "base_uri": "https://localhost:8080/",
          "height": 34
        },
        "outputId": "85b72b2e-8b24-4701-95b3-9ed168e39fd0"
      },
      "source": [
        "sum(i for i in range(1,11))"
      ],
      "execution_count": 191,
      "outputs": [
        {
          "output_type": "execute_result",
          "data": {
            "text/plain": [
              "55"
            ]
          },
          "metadata": {
            "tags": []
          },
          "execution_count": 191
        }
      ]
    },
    {
      "cell_type": "code",
      "metadata": {
        "id": "xleVoQSOssvE",
        "colab_type": "code",
        "colab": {
          "base_uri": "https://localhost:8080/",
          "height": 34
        },
        "outputId": "28fe3df5-ab98-42ff-921d-6c472a14679f"
      },
      "source": [
        "total = 0\n",
        "for i in range(1,11):\n",
        "    total += i\n",
        "print(total)"
      ],
      "execution_count": 192,
      "outputs": [
        {
          "output_type": "stream",
          "text": [
            "55\n"
          ],
          "name": "stdout"
        }
      ]
    },
    {
      "cell_type": "markdown",
      "metadata": {
        "id": "1ryA3zaEtQKz",
        "colab_type": "text"
      },
      "source": [
        "50の一番近い2乗をwhileループを使って、表示しなさい。答えは49"
      ]
    },
    {
      "cell_type": "code",
      "metadata": {
        "id": "35FQccI0tPnl",
        "colab_type": "code",
        "colab": {
          "base_uri": "https://localhost:8080/",
          "height": 34
        },
        "outputId": "e07f0567-d971-4f70-f2e6-568bda715665"
      },
      "source": [
        "limit = 50\n",
        "\n",
        "num = 0\n",
        "while (num+1)**2 < limit:\n",
        "    num += 1\n",
        "nearest_square = num ** 2\n",
        "print(nearest_square)"
      ],
      "execution_count": 193,
      "outputs": [
        {
          "output_type": "stream",
          "text": [
            "49\n"
          ],
          "name": "stdout"
        }
      ]
    },
    {
      "cell_type": "markdown",
      "metadata": {
        "id": "q1RCY43btccj",
        "colab_type": "text"
      },
      "source": [
        "\n",
        "## breakとcontinue"
      ]
    },
    {
      "cell_type": "code",
      "metadata": {
        "id": "5doyA-NntduK",
        "colab_type": "code",
        "colab": {
          "base_uri": "https://localhost:8080/",
          "height": 34
        },
        "outputId": "35b62417-0c39-4bd1-83ad-925dc3ac6fdd"
      },
      "source": [
        "for n in range(20):\n",
        "    #もし計算のあまりが0の場合、ループをスキップ\n",
        "    if n % 2 == 0:\n",
        "        continue\n",
        "    print(n, end=' ')"
      ],
      "execution_count": 199,
      "outputs": [
        {
          "output_type": "stream",
          "text": [
            "1 3 5 7 9 11 13 15 17 19 "
          ],
          "name": "stdout"
        }
      ]
    },
    {
      "cell_type": "code",
      "metadata": {
        "id": "9bKWvvjjuT4M",
        "colab_type": "code",
        "colab": {
          "base_uri": "https://localhost:8080/",
          "height": 50
        },
        "outputId": "4256658b-d3a0-4625-cc1d-9cdab232687a"
      },
      "source": [
        "name = input(\"名前: \")\n",
        "print(name)"
      ],
      "execution_count": 200,
      "outputs": [
        {
          "output_type": "stream",
          "text": [
            "名前: jiang\n",
            "jiang\n"
          ],
          "name": "stdout"
        }
      ]
    },
    {
      "cell_type": "code",
      "metadata": {
        "id": "6reXgZpHubjz",
        "colab_type": "code",
        "colab": {
          "base_uri": "https://localhost:8080/",
          "height": 50
        },
        "outputId": "3de91cf0-4a01-4b39-9ef4-5350d6c27d4d"
      },
      "source": [
        "name = input(\"名前: \")\n",
        "print(\"こんにちは {}!\".format(name))"
      ],
      "execution_count": 204,
      "outputs": [
        {
          "output_type": "stream",
          "text": [
            "名前: jiangrui\n",
            "こんにちは jiangrui!\n"
          ],
          "name": "stdout"
        }
      ]
    },
    {
      "cell_type": "code",
      "metadata": {
        "id": "fTn2RV-4urVF",
        "colab_type": "code",
        "colab": {
          "base_uri": "https://localhost:8080/",
          "height": 50
        },
        "outputId": "e5dd4a7f-e877-4f94-fcb0-4330b36caea4"
      },
      "source": [
        "str = input(\"名前: \");\n",
        "print (\"こんにちは: \", str)"
      ],
      "execution_count": 205,
      "outputs": [
        {
          "output_type": "stream",
          "text": [
            "名前: jiangrui \n",
            "こんにちは:  jiangrui \n"
          ],
          "name": "stdout"
        }
      ]
    },
    {
      "cell_type": "markdown",
      "metadata": {
        "id": "_6GUEeCLvPrU",
        "colab_type": "text"
      },
      "source": [
        "显示5年后的用户年龄。"
      ]
    },
    {
      "cell_type": "code",
      "metadata": {
        "id": "xoZbG_5RvWBN",
        "colab_type": "code",
        "colab": {
          "base_uri": "https://localhost:8080/",
          "height": 50
        },
        "outputId": "43a3c032-0331-4b91-9990-458708846ff2"
      },
      "source": [
        "age = input(\"年齢: \")\n",
        "print(age)"
      ],
      "execution_count": 207,
      "outputs": [
        {
          "output_type": "stream",
          "text": [
            "年齢: 24\n",
            "24\n"
          ],
          "name": "stdout"
        }
      ]
    },
    {
      "cell_type": "code",
      "metadata": {
        "id": "4M9mw25ivNe2",
        "colab_type": "code",
        "colab": {
          "base_uri": "https://localhost:8080/",
          "height": 34
        },
        "outputId": "15e97fcb-11f6-4203-da63-c7fc02d92da4"
      },
      "source": [
        "age = int(age)\n",
        "age_5_years = age + 5\n",
        "print(age_5_years)"
      ],
      "execution_count": 209,
      "outputs": [
        {
          "output_type": "stream",
          "text": [
            "29\n"
          ],
          "name": "stdout"
        }
      ]
    },
    {
      "cell_type": "code",
      "metadata": {
        "id": "YLQYzrOkvk_j",
        "colab_type": "code",
        "colab": {
          "base_uri": "https://localhost:8080/",
          "height": 34
        },
        "outputId": "22bd4f13-2309-44e1-d543-746e0e3238eb"
      },
      "source": [
        "print(\"こんにちは{}さん! {}さんは今{}歳ですが、5年後は{}歳になりますよ\".format(name, name, age, age_5_years_later))"
      ],
      "execution_count": 211,
      "outputs": [
        {
          "output_type": "stream",
          "text": [
            "こんにちはjiangruiさん! jiangruiさんは今24歳ですが、5年後は29歳になりますよ\n"
          ],
          "name": "stdout"
        }
      ]
    },
    {
      "cell_type": "markdown",
      "metadata": {
        "id": "-JUKQhGTwJdM",
        "colab_type": "text"
      },
      "source": [
        "もしたくさんのユーザーがいて、forループを使って、どうやって簡単に表示できますか？"
      ]
    },
    {
      "cell_type": "code",
      "metadata": {
        "id": "kAmUx2AMwGzv",
        "colab_type": "code",
        "colab": {
          "base_uri": "https://localhost:8080/",
          "height": 84
        },
        "outputId": "1688083b-1495-49eb-b92a-698838622e3a"
      },
      "source": [
        "\n",
        "names = input(\"コマで区切って名前を入力して: \").title().split(\",\")\n",
        "ages = input(\"コマで区切って年齢を入力して: \").split(\",\")\n",
        "message = \"こんにちは{}さん! {}さんは今{}歳ですが、5年後は{}歳になりますよ\"\n",
        "\n",
        "for name, age in zip(names, ages):\n",
        "    print(message.format(name, name, age, int(age)+5))"
      ],
      "execution_count": 213,
      "outputs": [
        {
          "output_type": "stream",
          "text": [
            "コマで区切って名前を入力して: jiangrui, xiaoc\n",
            "コマで区切って年齢を入力して: 22,25\n",
            "こんにちはJiangruiさん! Jiangruiさんは今22歳ですが、5年後は27歳になりますよ\n",
            "こんにちは Xiaocさん!  Xiaocさんは今25歳ですが、5年後は30歳になりますよ\n"
          ],
          "name": "stdout"
        }
      ]
    },
    {
      "cell_type": "markdown",
      "metadata": {
        "id": "y61NOBIYwXOj",
        "colab_type": "text"
      },
      "source": [
        "### エラーと例外"
      ]
    },
    {
      "cell_type": "code",
      "metadata": {
        "id": "RlT0oV2hway8",
        "colab_type": "code",
        "colab": {
          "base_uri": "https://localhost:8080/",
          "height": 34
        },
        "outputId": "73989c3d-86d0-4ce7-e667-c4fce9b47fd5"
      },
      "source": [
        "print(x)"
      ],
      "execution_count": 214,
      "outputs": [
        {
          "output_type": "stream",
          "text": [
            "20\n"
          ],
          "name": "stdout"
        }
      ]
    },
    {
      "cell_type": "markdown",
      "metadata": {
        "id": "BddStoZrwqF6",
        "colab_type": "text"
      },
      "source": [
        "### **tryとexceptの関数を使って、エラーを見つかりましょう。**\n",
        " 下記の文を実行してみてください。\n",
        "\n",
        " try:\n",
        "    print(\"this gets executed first\")\n",
        "    \n",
        " except:\n",
        "    print(\"this gets executed only if there is an error\")"
      ]
    },
    {
      "cell_type": "code",
      "metadata": {
        "id": "PS8jT_ZWw0ND",
        "colab_type": "code",
        "colab": {
          "base_uri": "https://localhost:8080/",
          "height": 34
        },
        "outputId": "8d7bd727-15fe-49e2-ec86-1f63d08dd75c"
      },
      "source": [
        "try:\n",
        "    print(\"this gets executed first\")\n",
        "except:\n",
        "    print(\"this gets executed only if there is an error\")"
      ],
      "execution_count": 215,
      "outputs": [
        {
          "output_type": "stream",
          "text": [
            "this gets executed first\n"
          ],
          "name": "stdout"
        }
      ]
    },
    {
      "cell_type": "code",
      "metadata": {
        "id": "8FypKFIrymJm",
        "colab_type": "code",
        "colab": {}
      },
      "source": [
        ""
      ],
      "execution_count": 0,
      "outputs": []
    },
    {
      "cell_type": "markdown",
      "metadata": {
        "id": "Kw_dbFjuycSG",
        "colab_type": "text"
      },
      "source": [
        "### **`Python3 函数`**\n",
        "    def 函数名（参数列表）:\n",
        "\n",
        "    函数体 \n",
        "  "
      ]
    },
    {
      "cell_type": "code",
      "metadata": {
        "id": "MCH_qAccyNad",
        "colab_type": "code",
        "colab": {
          "base_uri": "https://localhost:8080/",
          "height": 34
        },
        "outputId": "71d709bf-7b1b-4a9e-9ab1-cb901ea0bc95"
      },
      "source": [
        "def area(width, height):\n",
        "    return width * height \n",
        "w = 4\n",
        "h = 5\n",
        "print(\"width =\", w, \" height =\", h, \" area =\", area(w, h))"
      ],
      "execution_count": 224,
      "outputs": [
        {
          "output_type": "stream",
          "text": [
            "width = 4  height = 5  area = 20\n"
          ],
          "name": "stdout"
        }
      ]
    },
    {
      "cell_type": "code",
      "metadata": {
        "id": "S4irpSXD0BYo",
        "colab_type": "code",
        "colab": {
          "base_uri": "https://localhost:8080/",
          "height": 34
        },
        "outputId": "b6670e1b-5800-421f-f357-11bc98634533"
      },
      "source": [
        "def area(width, height):\n",
        "    return width + height \n",
        "w = 4\n",
        "h = 5\n",
        "print(\" area =\", area(w, h))"
      ],
      "execution_count": 247,
      "outputs": [
        {
          "output_type": "stream",
          "text": [
            " area = 9\n"
          ],
          "name": "stdout"
        }
      ]
    },
    {
      "cell_type": "code",
      "metadata": {
        "id": "T17rq2TM0VWz",
        "colab_type": "code",
        "colab": {}
      },
      "source": [
        "def total_numbers_1(a, b):\n",
        "    print(a+b)\n",
        "\n",
        "def total_numbers_2(a,b):\n",
        "    return (a+b)"
      ],
      "execution_count": 0,
      "outputs": []
    },
    {
      "cell_type": "code",
      "metadata": {
        "id": "1oqLEztI2cTy",
        "colab_type": "code",
        "colab": {
          "base_uri": "https://localhost:8080/",
          "height": 50
        },
        "outputId": "a9637176-3dfa-492b-fc93-a021fa739ad0"
      },
      "source": [
        "def total_numbers_2(a,b):\n",
        "    return (a+b)\n",
        "total = total_numbers_2(3,7)\n",
        "print(total)\n",
        "add_again = total_numbers_2(total, 3)\n",
        "print(add_again)"
      ],
      "execution_count": 249,
      "outputs": [
        {
          "output_type": "stream",
          "text": [
            "10\n",
            "13\n"
          ],
          "name": "stdout"
        }
      ]
    },
    {
      "cell_type": "code",
      "metadata": {
        "id": "Pz7Lw6s202Uh",
        "colab_type": "code",
        "colab": {
          "base_uri": "https://localhost:8080/",
          "height": 366
        },
        "outputId": "6034b11a-490f-4440-fb70-3e0d908486a0"
      },
      "source": [
        "total = total_numbers_1(3,7)\n",
        "print(total)\n",
        "add_again = total_numbers_1(total, 3)\n",
        "print(add_again)"
      ],
      "execution_count": 235,
      "outputs": [
        {
          "output_type": "stream",
          "text": [
            "10\n",
            "None\n"
          ],
          "name": "stdout"
        },
        {
          "output_type": "error",
          "ename": "TypeError",
          "evalue": "ignored",
          "traceback": [
            "\u001b[0;31m---------------------------------------------------------------------------\u001b[0m",
            "\u001b[0;31mTypeError\u001b[0m                                 Traceback (most recent call last)",
            "\u001b[0;32m<ipython-input-235-0bef97c97f0f>\u001b[0m in \u001b[0;36m<module>\u001b[0;34m()\u001b[0m\n\u001b[1;32m      1\u001b[0m \u001b[0mtotal\u001b[0m \u001b[0;34m=\u001b[0m \u001b[0mtotal_numbers_1\u001b[0m\u001b[0;34m(\u001b[0m\u001b[0;36m3\u001b[0m\u001b[0;34m,\u001b[0m\u001b[0;36m7\u001b[0m\u001b[0;34m)\u001b[0m\u001b[0;34m\u001b[0m\u001b[0;34m\u001b[0m\u001b[0m\n\u001b[1;32m      2\u001b[0m \u001b[0mprint\u001b[0m\u001b[0;34m(\u001b[0m\u001b[0mtotal\u001b[0m\u001b[0;34m)\u001b[0m\u001b[0;34m\u001b[0m\u001b[0;34m\u001b[0m\u001b[0m\n\u001b[0;32m----> 3\u001b[0;31m \u001b[0madd_again\u001b[0m \u001b[0;34m=\u001b[0m \u001b[0mtotal_numbers_1\u001b[0m\u001b[0;34m(\u001b[0m\u001b[0mtotal\u001b[0m\u001b[0;34m,\u001b[0m \u001b[0;36m3\u001b[0m\u001b[0;34m)\u001b[0m\u001b[0;34m\u001b[0m\u001b[0;34m\u001b[0m\u001b[0m\n\u001b[0m\u001b[1;32m      4\u001b[0m \u001b[0mprint\u001b[0m\u001b[0;34m(\u001b[0m\u001b[0madd_again\u001b[0m\u001b[0;34m)\u001b[0m\u001b[0;34m\u001b[0m\u001b[0;34m\u001b[0m\u001b[0m\n",
            "\u001b[0;32m<ipython-input-233-9c9bb3d7aebc>\u001b[0m in \u001b[0;36mtotal_numbers_1\u001b[0;34m(a, b)\u001b[0m\n\u001b[1;32m      1\u001b[0m \u001b[0;32mdef\u001b[0m \u001b[0mtotal_numbers_1\u001b[0m\u001b[0;34m(\u001b[0m\u001b[0ma\u001b[0m\u001b[0;34m,\u001b[0m \u001b[0mb\u001b[0m\u001b[0;34m)\u001b[0m\u001b[0;34m:\u001b[0m\u001b[0;34m\u001b[0m\u001b[0;34m\u001b[0m\u001b[0m\n\u001b[0;32m----> 2\u001b[0;31m     \u001b[0mprint\u001b[0m\u001b[0;34m(\u001b[0m\u001b[0ma\u001b[0m\u001b[0;34m+\u001b[0m\u001b[0mb\u001b[0m\u001b[0;34m)\u001b[0m\u001b[0;34m\u001b[0m\u001b[0;34m\u001b[0m\u001b[0m\n\u001b[0m\u001b[1;32m      3\u001b[0m \u001b[0;34m\u001b[0m\u001b[0m\n\u001b[1;32m      4\u001b[0m \u001b[0;32mdef\u001b[0m \u001b[0mtotal_numbers_2\u001b[0m\u001b[0;34m(\u001b[0m\u001b[0ma\u001b[0m\u001b[0;34m,\u001b[0m\u001b[0mb\u001b[0m\u001b[0;34m)\u001b[0m\u001b[0;34m:\u001b[0m\u001b[0;34m\u001b[0m\u001b[0;34m\u001b[0m\u001b[0m\n\u001b[1;32m      5\u001b[0m     \u001b[0;32mreturn\u001b[0m \u001b[0;34m(\u001b[0m\u001b[0ma\u001b[0m\u001b[0;34m+\u001b[0m\u001b[0mb\u001b[0m\u001b[0;34m)\u001b[0m\u001b[0;34m\u001b[0m\u001b[0;34m\u001b[0m\u001b[0m\n",
            "\u001b[0;31mTypeError\u001b[0m: unsupported operand type(s) for +: 'NoneType' and 'int'"
          ]
        }
      ]
    },
    {
      "cell_type": "code",
      "metadata": {
        "id": "P5FOmeaK0jT0",
        "colab_type": "code",
        "colab": {
          "base_uri": "https://localhost:8080/",
          "height": 50
        },
        "outputId": "a29492e9-d646-4d8c-8565-31ab913bd764"
      },
      "source": [
        "total = total_numbers_2(3,7)\n",
        "print(total)\n",
        "add_again = total_numbers_2(total, 3)\n",
        "print(add_again)"
      ],
      "execution_count": 234,
      "outputs": [
        {
          "output_type": "stream",
          "text": [
            "10\n",
            "13\n"
          ],
          "name": "stdout"
        }
      ]
    },
    {
      "cell_type": "markdown",
      "metadata": {
        "id": "2JnJfF0b2tKL",
        "colab_type": "text"
      },
      "source": [
        "# minutesの変数を整数の値に入れて、何時間になるかを示した関数を作りなさい。 関数の出力は\n",
        "print(how_many_hours(215)) "
      ]
    },
    {
      "cell_type": "code",
      "metadata": {
        "id": "MSczAQ8u2tuH",
        "colab_type": "code",
        "colab": {
          "base_uri": "https://localhost:8080/",
          "height": 34
        },
        "outputId": "57706988-0852-4ae8-b62a-dda370406655"
      },
      "source": [
        "def how_many_hours(minutes):\n",
        "    hours = minutes // 60\n",
        "    remainder = minutes % 60\n",
        "    return \"{} 時間 {} 分\".format(hours, remainder)\n",
        "\n",
        "print(how_many_hours(60))"
      ],
      "execution_count": 251,
      "outputs": [
        {
          "output_type": "stream",
          "text": [
            "1 時間 0 分\n"
          ],
          "name": "stdout"
        }
      ]
    },
    {
      "cell_type": "markdown",
      "metadata": {
        "id": "rFNMsmBA3WA0",
        "colab_type": "text"
      },
      "source": [
        "# ラムダ関数"
      ]
    },
    {
      "cell_type": "code",
      "metadata": {
        "id": "X_BGmPQc3Z9x",
        "colab_type": "code",
        "colab": {
          "base_uri": "https://localhost:8080/",
          "height": 34
        },
        "outputId": "420fb314-a1f5-4c38-8f16-8e40ec4d41f0"
      },
      "source": [
        "multiply = lambda x, y: x * y\n",
        "multiply (2,3)"
      ],
      "execution_count": 252,
      "outputs": [
        {
          "output_type": "execute_result",
          "data": {
            "text/plain": [
              "6"
            ]
          },
          "metadata": {
            "tags": []
          },
          "execution_count": 252
        }
      ]
    },
    {
      "cell_type": "code",
      "metadata": {
        "id": "c0i3UbNX3cA7",
        "colab_type": "code",
        "colab": {
          "base_uri": "https://localhost:8080/",
          "height": 34
        },
        "outputId": "88a24fd4-a911-43ef-e4d9-f283356369e8"
      },
      "source": [
        "def multiply(x,y):\n",
        "    return x*y\n",
        "print(multiply(1,2))"
      ],
      "execution_count": 255,
      "outputs": [
        {
          "output_type": "stream",
          "text": [
            "2\n"
          ],
          "name": "stdout"
        }
      ]
    },
    {
      "cell_type": "markdown",
      "metadata": {
        "id": "zIh2uRw63qmD",
        "colab_type": "text"
      },
      "source": [
        "ラムダ関数を作って、以下の辞書をソートしてください。\n",
        "辞書はひらがなの昇順でソートしなさい。\n",
        "\n",
        "data = [{'動物': 'うま', '年齢': 3},                              \n",
        "        {'動物': 'ねこ', '年齢': 1},                                 \n",
        "        {'動物': 'きりん', '年齢': 5}]                                          \n",
        "sorted関数を使って上の辞書をソートできます。"
      ]
    },
    {
      "cell_type": "code",
      "metadata": {
        "id": "ViMrpEIA3rpR",
        "colab_type": "code",
        "colab": {
          "base_uri": "https://localhost:8080/",
          "height": 34
        },
        "outputId": "c626b1b9-1f1d-4089-b598-c9fa3b701fa8"
      },
      "source": [
        "data = [{'動物': 'うま', '年齢': 3},\n",
        "        {'動物': 'ねこ', '年齢': 1},\n",
        "        {'動物': 'きりん', '年齢': 5}]\n",
        "\n",
        "sorted(data, key=lambda item: item['動物'])"
      ],
      "execution_count": 256,
      "outputs": [
        {
          "output_type": "execute_result",
          "data": {
            "text/plain": [
              "[{'動物': 'うま', '年齢': 3}, {'動物': 'きりん', '年齢': 5}, {'動物': 'ねこ', '年齢': 1}]"
            ]
          },
          "metadata": {
            "tags": []
          },
          "execution_count": 256
        }
      ]
    },
    {
      "cell_type": "markdown",
      "metadata": {
        "id": "gXONffAV4CB6",
        "colab_type": "text"
      },
      "source": [
        "# **クラス Class**"
      ]
    },
    {
      "cell_type": "markdown",
      "metadata": {
        "id": "EiAFTk8U4Hpj",
        "colab_type": "text"
      },
      "source": [
        "Animalのクラスを作成し、__init__()関数で初期化し、動物の名前と数を設定してください。"
      ]
    },
    {
      "cell_type": "code",
      "metadata": {
        "id": "ITY_SFjl4E1J",
        "colab_type": "code",
        "colab": {
          "base_uri": "https://localhost:8080/",
          "height": 50
        },
        "outputId": "e3046b98-309a-490c-94a1-ce22f041e2ff"
      },
      "source": [
        "class Animal:\n",
        "    def __init__(self, animal_name, amounts):\n",
        "        self.animal_name = animal_name\n",
        "        self.amounts = amounts\n",
        "        \n",
        "a1 = Animal(\"ねこ\", 4)\n",
        "\n",
        "print(a1.animal_name)\n",
        "print(a1.amounts)"
      ],
      "execution_count": 257,
      "outputs": [
        {
          "output_type": "stream",
          "text": [
            "ねこ\n",
            "4\n"
          ],
          "name": "stdout"
        }
      ]
    },
    {
      "cell_type": "markdown",
      "metadata": {
        "id": "X52aOxIj4jv6",
        "colab_type": "text"
      },
      "source": [
        "<動物の数>匹の<動物の名前>,こちらの動物園にいます と表示したmyfunc関数を作りなさい。そして、a1のオブジェクトに当ててください。"
      ]
    },
    {
      "cell_type": "code",
      "metadata": {
        "id": "I5NUQZs24Tfb",
        "colab_type": "code",
        "colab": {
          "base_uri": "https://localhost:8080/",
          "height": 34
        },
        "outputId": "9c9831e3-42eb-4a91-e7db-10c641525ec3"
      },
      "source": [
        "class Animal:\n",
        "    def __init__(self, animal_name, amounts):\n",
        "        self.animal_name = animal_name\n",
        "        self.amounts = amounts\n",
        "    \n",
        "    def myfunc(self):\n",
        "        return (\"この動物園では、{}が{}匹います。\".format(self.animal_name, self.amounts))\n",
        "        \n",
        "a1 = Animal(\"ねこ\", 4)\n",
        "print(a1.myfunc())"
      ],
      "execution_count": 258,
      "outputs": [
        {
          "output_type": "stream",
          "text": [
            "この動物園では、ねこが4匹います。\n"
          ],
          "name": "stdout"
        }
      ]
    },
    {
      "cell_type": "code",
      "metadata": {
        "id": "WZeb_z0J4WCa",
        "colab_type": "code",
        "colab": {
          "base_uri": "https://localhost:8080/",
          "height": 34
        },
        "outputId": "7ba36da3-f958-4d42-af67-81a35482a938"
      },
      "source": [
        "\n",
        "class Animal:\n",
        "    def __init__(anything, animal_name, amounts):\n",
        "        anything.animal_name = animal_name\n",
        "        anything.amounts = amounts\n",
        "    \n",
        "    def myfunc(abc):\n",
        "        return(\"この動物園では、{}が{}匹います。\".format(abc.animal_name, abc.amounts))\n",
        "        \n",
        "a1 = Animal(\"ねこ\", 4)\n",
        "print(a1.myfunc())"
      ],
      "execution_count": 259,
      "outputs": [
        {
          "output_type": "stream",
          "text": [
            "この動物園では、ねこが4匹います。\n"
          ],
          "name": "stdout"
        }
      ]
    },
    {
      "cell_type": "code",
      "metadata": {
        "id": "171bVal94Y4K",
        "colab_type": "code",
        "colab": {}
      },
      "source": [
        "class Add:\n",
        "  def __init__(self,a,b):\n",
        "    self.a = a\n",
        "    self.b = b\n",
        "  def plus(self):\n",
        "    return self.a+self.b\n",
        "\n",
        "abc = Add(1,2)\n",
        "abc.plus()\n"
      ],
      "execution_count": 0,
      "outputs": []
    },
    {
      "cell_type": "code",
      "metadata": {
        "id": "XJF7QTWI6tVl",
        "colab_type": "code",
        "colab": {
          "base_uri": "https://localhost:8080/",
          "height": 165
        },
        "outputId": "636235b9-8da9-4aaa-ae95-f85bc0e055df"
      },
      "source": [
        ""
      ],
      "execution_count": 260,
      "outputs": [
        {
          "output_type": "error",
          "ename": "NameError",
          "evalue": "ignored",
          "traceback": [
            "\u001b[0;31m---------------------------------------------------------------------------\u001b[0m",
            "\u001b[0;31mNameError\u001b[0m                                 Traceback (most recent call last)",
            "\u001b[0;32m<ipython-input-260-731e693dde88>\u001b[0m in \u001b[0;36m<module>\u001b[0;34m()\u001b[0m\n\u001b[0;32m----> 1\u001b[0;31m \u001b[0mLecture10\u001b[0m\u001b[0;34m.\u001b[0m\u001b[0mipynb\u001b[0m\u001b[0;34m\u001b[0m\u001b[0;34m\u001b[0m\u001b[0m\n\u001b[0m",
            "\u001b[0;31mNameError\u001b[0m: name 'Lecture10' is not defined"
          ]
        }
      ]
    }
  ]
}